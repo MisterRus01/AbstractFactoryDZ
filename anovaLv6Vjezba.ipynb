{
  "nbformat": 4,
  "nbformat_minor": 0,
  "metadata": {
    "colab": {
      "provenance": [],
      "authorship_tag": "ABX9TyO7c3z1YNODLdK2+PumWxGB",
      "include_colab_link": true
    },
    "kernelspec": {
      "name": "python3",
      "display_name": "Python 3"
    },
    "language_info": {
      "name": "python"
    }
  },
  "cells": [
    {
      "cell_type": "markdown",
      "metadata": {
        "id": "view-in-github",
        "colab_type": "text"
      },
      "source": [
        "<a href=\"https://colab.research.google.com/github/MisterRus01/AbstractFactoryDZ/blob/master/anovaLv6Vjezba.ipynb\" target=\"_parent\"><img src=\"https://colab.research.google.com/assets/colab-badge.svg\" alt=\"Open In Colab\"/></a>"
      ]
    },
    {
      "cell_type": "code",
      "execution_count": null,
      "metadata": {
        "id": "9Fb_hR6-rvfv"
      },
      "outputs": [],
      "source": [
        "import pandas as pd\n",
        "import numpy as np\n",
        "import scipy.stats as stats\n",
        "import matplotlib.pyplot as plt"
      ]
    },
    {
      "cell_type": "code",
      "source": [
        "data = pd.read_csv('glass.csv')\n",
        "data.info()"
      ],
      "metadata": {
        "colab": {
          "base_uri": "https://localhost:8080/"
        },
        "id": "7f45x3SpseWT",
        "outputId": "efd62326-97e3-43c5-d550-1f29777e1f98"
      },
      "execution_count": null,
      "outputs": [
        {
          "output_type": "stream",
          "name": "stdout",
          "text": [
            "<class 'pandas.core.frame.DataFrame'>\n",
            "RangeIndex: 214 entries, 0 to 213\n",
            "Data columns (total 10 columns):\n",
            " #   Column  Non-Null Count  Dtype  \n",
            "---  ------  --------------  -----  \n",
            " 0   RI      214 non-null    float64\n",
            " 1   Na      214 non-null    float64\n",
            " 2   Mg      214 non-null    float64\n",
            " 3   Al      214 non-null    float64\n",
            " 4   Si      214 non-null    float64\n",
            " 5   K       214 non-null    float64\n",
            " 6   Ca      214 non-null    float64\n",
            " 7   Ba      214 non-null    float64\n",
            " 8   Fe      214 non-null    float64\n",
            " 9   Type    214 non-null    int64  \n",
            "dtypes: float64(9), int64(1)\n",
            "memory usage: 16.8 KB\n"
          ]
        }
      ]
    },
    {
      "cell_type": "code",
      "source": [
        "data.head()"
      ],
      "metadata": {
        "colab": {
          "base_uri": "https://localhost:8080/",
          "height": 206
        },
        "id": "P1_W2wdQv7M7",
        "outputId": "6c24c711-ea2b-4880-f31e-2df5a6e0ab07"
      },
      "execution_count": null,
      "outputs": [
        {
          "output_type": "execute_result",
          "data": {
            "text/plain": [
              "        RI     Na    Mg    Al     Si     K    Ca   Ba   Fe  Type\n",
              "0  1.52101  13.64  4.49  1.10  71.78  0.06  8.75  0.0  0.0     1\n",
              "1  1.51761  13.89  3.60  1.36  72.73  0.48  7.83  0.0  0.0     1\n",
              "2  1.51618  13.53  3.55  1.54  72.99  0.39  7.78  0.0  0.0     1\n",
              "3  1.51766  13.21  3.69  1.29  72.61  0.57  8.22  0.0  0.0     1\n",
              "4  1.51742  13.27  3.62  1.24  73.08  0.55  8.07  0.0  0.0     1"
            ],
            "text/html": [
              "\n",
              "  <div id=\"df-fa80dae9-c99b-4fd2-bbce-ed5b54b9f088\" class=\"colab-df-container\">\n",
              "    <div>\n",
              "<style scoped>\n",
              "    .dataframe tbody tr th:only-of-type {\n",
              "        vertical-align: middle;\n",
              "    }\n",
              "\n",
              "    .dataframe tbody tr th {\n",
              "        vertical-align: top;\n",
              "    }\n",
              "\n",
              "    .dataframe thead th {\n",
              "        text-align: right;\n",
              "    }\n",
              "</style>\n",
              "<table border=\"1\" class=\"dataframe\">\n",
              "  <thead>\n",
              "    <tr style=\"text-align: right;\">\n",
              "      <th></th>\n",
              "      <th>RI</th>\n",
              "      <th>Na</th>\n",
              "      <th>Mg</th>\n",
              "      <th>Al</th>\n",
              "      <th>Si</th>\n",
              "      <th>K</th>\n",
              "      <th>Ca</th>\n",
              "      <th>Ba</th>\n",
              "      <th>Fe</th>\n",
              "      <th>Type</th>\n",
              "    </tr>\n",
              "  </thead>\n",
              "  <tbody>\n",
              "    <tr>\n",
              "      <th>0</th>\n",
              "      <td>1.52101</td>\n",
              "      <td>13.64</td>\n",
              "      <td>4.49</td>\n",
              "      <td>1.10</td>\n",
              "      <td>71.78</td>\n",
              "      <td>0.06</td>\n",
              "      <td>8.75</td>\n",
              "      <td>0.0</td>\n",
              "      <td>0.0</td>\n",
              "      <td>1</td>\n",
              "    </tr>\n",
              "    <tr>\n",
              "      <th>1</th>\n",
              "      <td>1.51761</td>\n",
              "      <td>13.89</td>\n",
              "      <td>3.60</td>\n",
              "      <td>1.36</td>\n",
              "      <td>72.73</td>\n",
              "      <td>0.48</td>\n",
              "      <td>7.83</td>\n",
              "      <td>0.0</td>\n",
              "      <td>0.0</td>\n",
              "      <td>1</td>\n",
              "    </tr>\n",
              "    <tr>\n",
              "      <th>2</th>\n",
              "      <td>1.51618</td>\n",
              "      <td>13.53</td>\n",
              "      <td>3.55</td>\n",
              "      <td>1.54</td>\n",
              "      <td>72.99</td>\n",
              "      <td>0.39</td>\n",
              "      <td>7.78</td>\n",
              "      <td>0.0</td>\n",
              "      <td>0.0</td>\n",
              "      <td>1</td>\n",
              "    </tr>\n",
              "    <tr>\n",
              "      <th>3</th>\n",
              "      <td>1.51766</td>\n",
              "      <td>13.21</td>\n",
              "      <td>3.69</td>\n",
              "      <td>1.29</td>\n",
              "      <td>72.61</td>\n",
              "      <td>0.57</td>\n",
              "      <td>8.22</td>\n",
              "      <td>0.0</td>\n",
              "      <td>0.0</td>\n",
              "      <td>1</td>\n",
              "    </tr>\n",
              "    <tr>\n",
              "      <th>4</th>\n",
              "      <td>1.51742</td>\n",
              "      <td>13.27</td>\n",
              "      <td>3.62</td>\n",
              "      <td>1.24</td>\n",
              "      <td>73.08</td>\n",
              "      <td>0.55</td>\n",
              "      <td>8.07</td>\n",
              "      <td>0.0</td>\n",
              "      <td>0.0</td>\n",
              "      <td>1</td>\n",
              "    </tr>\n",
              "  </tbody>\n",
              "</table>\n",
              "</div>\n",
              "    <div class=\"colab-df-buttons\">\n",
              "\n",
              "  <div class=\"colab-df-container\">\n",
              "    <button class=\"colab-df-convert\" onclick=\"convertToInteractive('df-fa80dae9-c99b-4fd2-bbce-ed5b54b9f088')\"\n",
              "            title=\"Convert this dataframe to an interactive table.\"\n",
              "            style=\"display:none;\">\n",
              "\n",
              "  <svg xmlns=\"http://www.w3.org/2000/svg\" height=\"24px\" viewBox=\"0 -960 960 960\">\n",
              "    <path d=\"M120-120v-720h720v720H120Zm60-500h600v-160H180v160Zm220 220h160v-160H400v160Zm0 220h160v-160H400v160ZM180-400h160v-160H180v160Zm440 0h160v-160H620v160ZM180-180h160v-160H180v160Zm440 0h160v-160H620v160Z\"/>\n",
              "  </svg>\n",
              "    </button>\n",
              "\n",
              "  <style>\n",
              "    .colab-df-container {\n",
              "      display:flex;\n",
              "      gap: 12px;\n",
              "    }\n",
              "\n",
              "    .colab-df-convert {\n",
              "      background-color: #E8F0FE;\n",
              "      border: none;\n",
              "      border-radius: 50%;\n",
              "      cursor: pointer;\n",
              "      display: none;\n",
              "      fill: #1967D2;\n",
              "      height: 32px;\n",
              "      padding: 0 0 0 0;\n",
              "      width: 32px;\n",
              "    }\n",
              "\n",
              "    .colab-df-convert:hover {\n",
              "      background-color: #E2EBFA;\n",
              "      box-shadow: 0px 1px 2px rgba(60, 64, 67, 0.3), 0px 1px 3px 1px rgba(60, 64, 67, 0.15);\n",
              "      fill: #174EA6;\n",
              "    }\n",
              "\n",
              "    .colab-df-buttons div {\n",
              "      margin-bottom: 4px;\n",
              "    }\n",
              "\n",
              "    [theme=dark] .colab-df-convert {\n",
              "      background-color: #3B4455;\n",
              "      fill: #D2E3FC;\n",
              "    }\n",
              "\n",
              "    [theme=dark] .colab-df-convert:hover {\n",
              "      background-color: #434B5C;\n",
              "      box-shadow: 0px 1px 3px 1px rgba(0, 0, 0, 0.15);\n",
              "      filter: drop-shadow(0px 1px 2px rgba(0, 0, 0, 0.3));\n",
              "      fill: #FFFFFF;\n",
              "    }\n",
              "  </style>\n",
              "\n",
              "    <script>\n",
              "      const buttonEl =\n",
              "        document.querySelector('#df-fa80dae9-c99b-4fd2-bbce-ed5b54b9f088 button.colab-df-convert');\n",
              "      buttonEl.style.display =\n",
              "        google.colab.kernel.accessAllowed ? 'block' : 'none';\n",
              "\n",
              "      async function convertToInteractive(key) {\n",
              "        const element = document.querySelector('#df-fa80dae9-c99b-4fd2-bbce-ed5b54b9f088');\n",
              "        const dataTable =\n",
              "          await google.colab.kernel.invokeFunction('convertToInteractive',\n",
              "                                                    [key], {});\n",
              "        if (!dataTable) return;\n",
              "\n",
              "        const docLinkHtml = 'Like what you see? Visit the ' +\n",
              "          '<a target=\"_blank\" href=https://colab.research.google.com/notebooks/data_table.ipynb>data table notebook</a>'\n",
              "          + ' to learn more about interactive tables.';\n",
              "        element.innerHTML = '';\n",
              "        dataTable['output_type'] = 'display_data';\n",
              "        await google.colab.output.renderOutput(dataTable, element);\n",
              "        const docLink = document.createElement('div');\n",
              "        docLink.innerHTML = docLinkHtml;\n",
              "        element.appendChild(docLink);\n",
              "      }\n",
              "    </script>\n",
              "  </div>\n",
              "\n",
              "\n",
              "<div id=\"df-81fb0e79-299e-4646-b828-4652dc0a0ffe\">\n",
              "  <button class=\"colab-df-quickchart\" onclick=\"quickchart('df-81fb0e79-299e-4646-b828-4652dc0a0ffe')\"\n",
              "            title=\"Suggest charts\"\n",
              "            style=\"display:none;\">\n",
              "\n",
              "<svg xmlns=\"http://www.w3.org/2000/svg\" height=\"24px\"viewBox=\"0 0 24 24\"\n",
              "     width=\"24px\">\n",
              "    <g>\n",
              "        <path d=\"M19 3H5c-1.1 0-2 .9-2 2v14c0 1.1.9 2 2 2h14c1.1 0 2-.9 2-2V5c0-1.1-.9-2-2-2zM9 17H7v-7h2v7zm4 0h-2V7h2v10zm4 0h-2v-4h2v4z\"/>\n",
              "    </g>\n",
              "</svg>\n",
              "  </button>\n",
              "\n",
              "<style>\n",
              "  .colab-df-quickchart {\n",
              "      --bg-color: #E8F0FE;\n",
              "      --fill-color: #1967D2;\n",
              "      --hover-bg-color: #E2EBFA;\n",
              "      --hover-fill-color: #174EA6;\n",
              "      --disabled-fill-color: #AAA;\n",
              "      --disabled-bg-color: #DDD;\n",
              "  }\n",
              "\n",
              "  [theme=dark] .colab-df-quickchart {\n",
              "      --bg-color: #3B4455;\n",
              "      --fill-color: #D2E3FC;\n",
              "      --hover-bg-color: #434B5C;\n",
              "      --hover-fill-color: #FFFFFF;\n",
              "      --disabled-bg-color: #3B4455;\n",
              "      --disabled-fill-color: #666;\n",
              "  }\n",
              "\n",
              "  .colab-df-quickchart {\n",
              "    background-color: var(--bg-color);\n",
              "    border: none;\n",
              "    border-radius: 50%;\n",
              "    cursor: pointer;\n",
              "    display: none;\n",
              "    fill: var(--fill-color);\n",
              "    height: 32px;\n",
              "    padding: 0;\n",
              "    width: 32px;\n",
              "  }\n",
              "\n",
              "  .colab-df-quickchart:hover {\n",
              "    background-color: var(--hover-bg-color);\n",
              "    box-shadow: 0 1px 2px rgba(60, 64, 67, 0.3), 0 1px 3px 1px rgba(60, 64, 67, 0.15);\n",
              "    fill: var(--button-hover-fill-color);\n",
              "  }\n",
              "\n",
              "  .colab-df-quickchart-complete:disabled,\n",
              "  .colab-df-quickchart-complete:disabled:hover {\n",
              "    background-color: var(--disabled-bg-color);\n",
              "    fill: var(--disabled-fill-color);\n",
              "    box-shadow: none;\n",
              "  }\n",
              "\n",
              "  .colab-df-spinner {\n",
              "    border: 2px solid var(--fill-color);\n",
              "    border-color: transparent;\n",
              "    border-bottom-color: var(--fill-color);\n",
              "    animation:\n",
              "      spin 1s steps(1) infinite;\n",
              "  }\n",
              "\n",
              "  @keyframes spin {\n",
              "    0% {\n",
              "      border-color: transparent;\n",
              "      border-bottom-color: var(--fill-color);\n",
              "      border-left-color: var(--fill-color);\n",
              "    }\n",
              "    20% {\n",
              "      border-color: transparent;\n",
              "      border-left-color: var(--fill-color);\n",
              "      border-top-color: var(--fill-color);\n",
              "    }\n",
              "    30% {\n",
              "      border-color: transparent;\n",
              "      border-left-color: var(--fill-color);\n",
              "      border-top-color: var(--fill-color);\n",
              "      border-right-color: var(--fill-color);\n",
              "    }\n",
              "    40% {\n",
              "      border-color: transparent;\n",
              "      border-right-color: var(--fill-color);\n",
              "      border-top-color: var(--fill-color);\n",
              "    }\n",
              "    60% {\n",
              "      border-color: transparent;\n",
              "      border-right-color: var(--fill-color);\n",
              "    }\n",
              "    80% {\n",
              "      border-color: transparent;\n",
              "      border-right-color: var(--fill-color);\n",
              "      border-bottom-color: var(--fill-color);\n",
              "    }\n",
              "    90% {\n",
              "      border-color: transparent;\n",
              "      border-bottom-color: var(--fill-color);\n",
              "    }\n",
              "  }\n",
              "</style>\n",
              "\n",
              "  <script>\n",
              "    async function quickchart(key) {\n",
              "      const quickchartButtonEl =\n",
              "        document.querySelector('#' + key + ' button');\n",
              "      quickchartButtonEl.disabled = true;  // To prevent multiple clicks.\n",
              "      quickchartButtonEl.classList.add('colab-df-spinner');\n",
              "      try {\n",
              "        const charts = await google.colab.kernel.invokeFunction(\n",
              "            'suggestCharts', [key], {});\n",
              "      } catch (error) {\n",
              "        console.error('Error during call to suggestCharts:', error);\n",
              "      }\n",
              "      quickchartButtonEl.classList.remove('colab-df-spinner');\n",
              "      quickchartButtonEl.classList.add('colab-df-quickchart-complete');\n",
              "    }\n",
              "    (() => {\n",
              "      let quickchartButtonEl =\n",
              "        document.querySelector('#df-81fb0e79-299e-4646-b828-4652dc0a0ffe button');\n",
              "      quickchartButtonEl.style.display =\n",
              "        google.colab.kernel.accessAllowed ? 'block' : 'none';\n",
              "    })();\n",
              "  </script>\n",
              "</div>\n",
              "\n",
              "    </div>\n",
              "  </div>\n"
            ],
            "application/vnd.google.colaboratory.intrinsic+json": {
              "type": "dataframe",
              "variable_name": "data",
              "summary": "{\n  \"name\": \"data\",\n  \"rows\": 214,\n  \"fields\": [\n    {\n      \"column\": \"RI\",\n      \"properties\": {\n        \"dtype\": \"number\",\n        \"std\": 0.0030368637393854334,\n        \"min\": 1.51115,\n        \"max\": 1.53393,\n        \"num_unique_values\": 178,\n        \"samples\": [\n          1.51966,\n          1.51808,\n          1.51969\n        ],\n        \"semantic_type\": \"\",\n        \"description\": \"\"\n      }\n    },\n    {\n      \"column\": \"Na\",\n      \"properties\": {\n        \"dtype\": \"number\",\n        \"std\": 0.8166035557149829,\n        \"min\": 10.73,\n        \"max\": 17.38,\n        \"num_unique_values\": 142,\n        \"samples\": [\n          14.38,\n          13.02,\n          13.83\n        ],\n        \"semantic_type\": \"\",\n        \"description\": \"\"\n      }\n    },\n    {\n      \"column\": \"Mg\",\n      \"properties\": {\n        \"dtype\": \"number\",\n        \"std\": 1.4424078448704414,\n        \"min\": 0.0,\n        \"max\": 4.49,\n        \"num_unique_values\": 94,\n        \"samples\": [\n          3.86,\n          3.47,\n          2.9\n        ],\n        \"semantic_type\": \"\",\n        \"description\": \"\"\n      }\n    },\n    {\n      \"column\": \"Al\",\n      \"properties\": {\n        \"dtype\": \"number\",\n        \"std\": 0.49926964560048454,\n        \"min\": 0.29,\n        \"max\": 3.5,\n        \"num_unique_values\": 118,\n        \"samples\": [\n          1.48,\n          1.65,\n          1.24\n        ],\n        \"semantic_type\": \"\",\n        \"description\": \"\"\n      }\n    },\n    {\n      \"column\": \"Si\",\n      \"properties\": {\n        \"dtype\": \"number\",\n        \"std\": 0.7745457947651124,\n        \"min\": 69.81,\n        \"max\": 75.41,\n        \"num_unique_values\": 133,\n        \"samples\": [\n          72.22,\n          73.06,\n          71.81\n        ],\n        \"semantic_type\": \"\",\n        \"description\": \"\"\n      }\n    },\n    {\n      \"column\": \"K\",\n      \"properties\": {\n        \"dtype\": \"number\",\n        \"std\": 0.6521918455589802,\n        \"min\": 0.0,\n        \"max\": 6.21,\n        \"num_unique_values\": 65,\n        \"samples\": [\n          0.47,\n          0.31,\n          0.06\n        ],\n        \"semantic_type\": \"\",\n        \"description\": \"\"\n      }\n    },\n    {\n      \"column\": \"Ca\",\n      \"properties\": {\n        \"dtype\": \"number\",\n        \"std\": 1.4231534872813945,\n        \"min\": 5.43,\n        \"max\": 16.19,\n        \"num_unique_values\": 143,\n        \"samples\": [\n          12.5,\n          8.52,\n          11.52\n        ],\n        \"semantic_type\": \"\",\n        \"description\": \"\"\n      }\n    },\n    {\n      \"column\": \"Ba\",\n      \"properties\": {\n        \"dtype\": \"number\",\n        \"std\": 0.4972192605997036,\n        \"min\": 0.0,\n        \"max\": 3.15,\n        \"num_unique_values\": 34,\n        \"samples\": [\n          0.64,\n          0.61,\n          1.55\n        ],\n        \"semantic_type\": \"\",\n        \"description\": \"\"\n      }\n    },\n    {\n      \"column\": \"Fe\",\n      \"properties\": {\n        \"dtype\": \"number\",\n        \"std\": 0.09743870063650086,\n        \"min\": 0.0,\n        \"max\": 0.51,\n        \"num_unique_values\": 32,\n        \"samples\": [\n          0.51,\n          0.03,\n          0.21\n        ],\n        \"semantic_type\": \"\",\n        \"description\": \"\"\n      }\n    },\n    {\n      \"column\": \"Type\",\n      \"properties\": {\n        \"dtype\": \"number\",\n        \"std\": 2,\n        \"min\": 1,\n        \"max\": 7,\n        \"num_unique_values\": 6,\n        \"samples\": [\n          1,\n          2,\n          7\n        ],\n        \"semantic_type\": \"\",\n        \"description\": \"\"\n      }\n    }\n  ]\n}"
            }
          },
          "metadata": {},
          "execution_count": 6
        }
      ]
    },
    {
      "cell_type": "code",
      "source": [
        "data.shape"
      ],
      "metadata": {
        "colab": {
          "base_uri": "https://localhost:8080/"
        },
        "id": "kotJvsTtszJV",
        "outputId": "323c02b1-c4c9-4fde-eaf9-fd1486195a58"
      },
      "execution_count": null,
      "outputs": [
        {
          "output_type": "execute_result",
          "data": {
            "text/plain": [
              "(214, 10)"
            ]
          },
          "metadata": {},
          "execution_count": 7
        }
      ]
    },
    {
      "cell_type": "code",
      "source": [
        "print(data.isnull().sum())"
      ],
      "metadata": {
        "colab": {
          "base_uri": "https://localhost:8080/"
        },
        "id": "lRkoyqogs8uC",
        "outputId": "b2790afd-bdb5-4568-f9cd-cedfd6448582"
      },
      "execution_count": null,
      "outputs": [
        {
          "output_type": "stream",
          "name": "stdout",
          "text": [
            "RI      0\n",
            "Na      0\n",
            "Mg      0\n",
            "Al      0\n",
            "Si      0\n",
            "K       0\n",
            "Ca      0\n",
            "Ba      0\n",
            "Fe      0\n",
            "Type    0\n",
            "dtype: int64\n"
          ]
        }
      ]
    },
    {
      "cell_type": "code",
      "source": [
        "analyzed_data = ['RI', 'Na', 'Mg']\n",
        "print(data[analyzed_data].describe())"
      ],
      "metadata": {
        "colab": {
          "base_uri": "https://localhost:8080/"
        },
        "id": "7Wd3m3S9uSvi",
        "outputId": "617bebc3-9b99-41b9-8e29-e732cbaff4ed"
      },
      "execution_count": null,
      "outputs": [
        {
          "output_type": "stream",
          "name": "stdout",
          "text": [
            "               RI          Na          Mg\n",
            "count  214.000000  214.000000  214.000000\n",
            "mean     1.518365   13.407850    2.684533\n",
            "std      0.003037    0.816604    1.442408\n",
            "min      1.511150   10.730000    0.000000\n",
            "25%      1.516522   12.907500    2.115000\n",
            "50%      1.517680   13.300000    3.480000\n",
            "75%      1.519157   13.825000    3.600000\n",
            "max      1.533930   17.380000    4.490000\n"
          ]
        }
      ]
    },
    {
      "cell_type": "code",
      "source": [
        "data['Si'].plot(kind='hist', bins=20, alpha=0.7)\n",
        "plt.title('Histogram za Si')\n",
        "plt.xlabel('Si')\n",
        "plt.show()"
      ],
      "metadata": {
        "colab": {
          "base_uri": "https://localhost:8080/",
          "height": 472
        },
        "id": "ViJXW7P6u9Aw",
        "outputId": "dad9d600-f3fe-4bbc-f1bc-0b30d4733cf0"
      },
      "execution_count": null,
      "outputs": [
        {
          "output_type": "display_data",
          "data": {
            "text/plain": [
              "<Figure size 640x480 with 1 Axes>"
            ],
            "image/png": "[encoded data removed]"
          },
          "metadata": {}
        }
      ]
    },
    {
      "cell_type": "code",
      "source": [
        "from scipy.stats import shapiro, levene"
      ],
      "metadata": {
        "id": "5v9qw4RmvWdT"
      },
      "execution_count": null,
      "outputs": []
    },
    {
      "cell_type": "code",
      "source": [
        "stat, p = shapiro(data['Si'])\n",
        "print(\"Shapiro-Wilk test: stat=%.3f, p=%.3f\" % (stat, p))\n",
        "\n",
        "# Leveneov test za homoscedastičnost\n",
        "stat, p = levene(data[data['Type'] == 'group1']['Si'],\n",
        "                 data[data['Type'] == 'group2']['Si'],\n",
        "                 data[data['Type'] == 'group3']['Si'])\n",
        "print(\"Leveneov test: stat=%.3f, p=%.3f\" % (stat, p))"
      ],
      "metadata": {
        "colab": {
          "base_uri": "https://localhost:8080/"
        },
        "id": "AgHWihubvYn9",
        "outputId": "89dd8d0a-2073-4122-948a-956915a3fb4f"
      },
      "execution_count": null,
      "outputs": [
        {
          "output_type": "stream",
          "name": "stdout",
          "text": [
            "Shapiro-Wilk test: stat=0.920, p=0.000\n",
            "Leveneov test: stat=nan, p=nan\n"
          ]
        }
      ]
    },
    {
      "cell_type": "code",
      "source": [
        "\n",
        "df = pd.read_csv('glass.csv')\n",
        "\n",
        "numerical_columns = ['RI', 'Na', 'Mg', 'Al', 'Si', 'K', 'Ca', 'Ba', 'Fe']\n",
        "\n",
        "print(\"Provjera normalnosti podataka (Shapiro-Wilk test):\")\n",
        "for col in numerical_columns:\n",
        "    for glass_type in df['Type'].unique():\n",
        "        group = df[df['Type'] == glass_type][col]\n",
        "        stat, p = shapiro(group)\n",
        "        print(f\"Varijabla: {col}, Tip stakla: {glass_type}, Statistika: {stat:.4f}, P-vrijednost: {p:.4f}\")\n",
        "        if p > 0.05:\n",
        "            print(f\" -> Podaci su normalni za {col} (tip: {glass_type}).\")\n",
        "        else:\n",
        "            print(f\" -> Podaci NISU normalni za {col} (tip: {glass_type}).\")\n",
        "\n",
        "print(\"\\nProvjera homoscedastičnosti (Leveneov test):\")\n",
        "for col in numerical_columns:\n",
        "    groups = [df[df['Type'] == glass_type][col] for glass_type in df['Type'].unique()]\n",
        "    stat, p = levene(*groups)\n",
        "    print(f\"Varijabla: {col}, Statistika: {stat:.4f}, P-vrijednost: {p:.4f}\")\n",
        "    if p > 0.05:\n",
        "        print(f\" -> Varijanse su jednake za {col}.\")\n",
        "    else:\n",
        "        print(f\" -> Varijanse NISU jednake za {col}.\")"
      ],
      "metadata": {
        "colab": {
          "base_uri": "https://localhost:8080/"
        },
        "id": "gHYVcF7gQKeu",
        "outputId": "953f4001-9528-4a69-e1c3-89f17aa0a585"
      },
      "execution_count": null,
      "outputs": [
        {
          "output_type": "stream",
          "name": "stdout",
          "text": [
            "Provjera normalnosti podataka (Shapiro-Wilk test):\n",
            "Varijabla: RI, Tip stakla: 1, Statistika: 0.8791, P-vrijednost: 0.0000\n",
            " -> Podaci NISU normalni za RI (tip: 1).\n",
            "Varijabla: RI, Tip stakla: 2, Statistika: 0.7223, P-vrijednost: 0.0000\n",
            " -> Podaci NISU normalni za RI (tip: 2).\n",
            "Varijabla: RI, Tip stakla: 3, Statistika: 0.8308, P-vrijednost: 0.0055\n",
            " -> Podaci NISU normalni za RI (tip: 3).\n",
            "Varijabla: RI, Tip stakla: 5, Statistika: 0.8970, P-vrijednost: 0.1215\n",
            " -> Podaci su normalni za RI (tip: 5).\n",
            "Varijabla: RI, Tip stakla: 6, Statistika: 0.6897, P-vrijednost: 0.0011\n",
            " -> Podaci NISU normalni za RI (tip: 6).\n",
            "Varijabla: RI, Tip stakla: 7, Statistika: 0.8237, P-vrijednost: 0.0002\n",
            " -> Podaci NISU normalni za RI (tip: 7).\n",
            "Varijabla: Na, Tip stakla: 1, Statistika: 0.9462, P-vrijednost: 0.0046\n",
            " -> Podaci NISU normalni za Na (tip: 1).\n",
            "Varijabla: Na, Tip stakla: 2, Statistika: 0.8995, P-vrijednost: 0.0000\n",
            " -> Podaci NISU normalni za Na (tip: 2).\n",
            "Varijabla: Na, Tip stakla: 3, Statistika: 0.9481, P-vrijednost: 0.4269\n",
            " -> Podaci su normalni za Na (tip: 3).\n",
            "Varijabla: Na, Tip stakla: 5, Statistika: 0.8757, P-vrijednost: 0.0624\n",
            " -> Podaci su normalni za Na (tip: 5).\n",
            "Varijabla: Na, Tip stakla: 6, Statistika: 0.6955, P-vrijednost: 0.0013\n",
            " -> Podaci NISU normalni za Na (tip: 6).\n",
            "Varijabla: Na, Tip stakla: 7, Statistika: 0.8701, P-vrijednost: 0.0020\n",
            " -> Podaci NISU normalni za Na (tip: 7).\n",
            "Varijabla: Mg, Tip stakla: 1, Statistika: 0.8192, P-vrijednost: 0.0000\n",
            " -> Podaci NISU normalni za Mg (tip: 1).\n",
            "Varijabla: Mg, Tip stakla: 2, Statistika: 0.6405, P-vrijednost: 0.0000\n",
            " -> Podaci NISU normalni za Mg (tip: 2).\n",
            "Varijabla: Mg, Tip stakla: 3, Statistika: 0.9292, P-vrijednost: 0.2110\n",
            " -> Podaci su normalni za Mg (tip: 3).\n",
            "Varijabla: Mg, Tip stakla: 5, Statistika: 0.7484, P-vrijednost: 0.0018\n",
            " -> Podaci NISU normalni za Mg (tip: 5).\n",
            "Varijabla: Mg, Tip stakla: 6, Statistika: 0.7978, P-vrijednost: 0.0193\n",
            " -> Podaci NISU normalni za Mg (tip: 6).\n",
            "Varijabla: Mg, Tip stakla: 7, Statistika: 0.5304, P-vrijednost: 0.0000\n",
            " -> Podaci NISU normalni za Mg (tip: 7).\n",
            "Varijabla: Al, Tip stakla: 1, Statistika: 0.9037, P-vrijednost: 0.0001\n",
            " -> Podaci NISU normalni za Al (tip: 1).\n",
            "Varijabla: Al, Tip stakla: 2, Statistika: 0.9689, P-vrijednost: 0.0591\n",
            " -> Podaci su normalni za Al (tip: 2).\n",
            "Varijabla: Al, Tip stakla: 3, Statistika: 0.9481, P-vrijednost: 0.4273\n",
            " -> Podaci su normalni za Al (tip: 3).\n",
            "Varijabla: Al, Tip stakla: 5, Statistika: 0.7856, P-vrijednost: 0.0046\n",
            " -> Podaci NISU normalni za Al (tip: 5).\n",
            "Varijabla: Al, Tip stakla: 6, Statistika: 0.8756, P-vrijednost: 0.1413\n",
            " -> Podaci su normalni za Al (tip: 6).\n",
            "Varijabla: Al, Tip stakla: 7, Statistika: 0.9578, P-vrijednost: 0.2891\n",
            " -> Podaci su normalni za Al (tip: 7).\n",
            "Varijabla: Si, Tip stakla: 1, Statistika: 0.9118, P-vrijednost: 0.0001\n",
            " -> Podaci NISU normalni za Si (tip: 1).\n",
            "Varijabla: Si, Tip stakla: 2, Statistika: 0.8820, P-vrijednost: 0.0000\n",
            " -> Podaci NISU normalni za Si (tip: 2).\n",
            "Varijabla: Si, Tip stakla: 3, Statistika: 0.8888, P-vrijednost: 0.0442\n",
            " -> Podaci NISU normalni za Si (tip: 3).\n",
            "Varijabla: Si, Tip stakla: 5, Statistika: 0.9002, P-vrijednost: 0.1344\n",
            " -> Podaci su normalni za Si (tip: 5).\n",
            "Varijabla: Si, Tip stakla: 6, Statistika: 0.7797, P-vrijednost: 0.0119\n",
            " -> Podaci NISU normalni za Si (tip: 6).\n",
            "Varijabla: Si, Tip stakla: 7, Statistika: 0.7758, P-vrijednost: 0.0000\n",
            " -> Podaci NISU normalni za Si (tip: 7).\n",
            "Varijabla: K, Tip stakla: 1, Statistika: 0.7651, P-vrijednost: 0.0000\n",
            " -> Podaci NISU normalni za K (tip: 1).\n",
            "Varijabla: K, Tip stakla: 2, Statistika: 0.8418, P-vrijednost: 0.0000\n",
            " -> Podaci NISU normalni za K (tip: 2).\n",
            "Varijabla: K, Tip stakla: 3, Statistika: 0.7561, P-vrijednost: 0.0005\n",
            " -> Podaci NISU normalni za K (tip: 3).\n",
            "Varijabla: K, Tip stakla: 5, Statistika: 0.5882, P-vrijednost: 0.0001\n",
            " -> Podaci NISU normalni za K (tip: 5).\n",
            "Varijabla: K, Tip stakla: 6, Statistika: 1.0000, P-vrijednost: 1.0000\n",
            " -> Podaci su normalni za K (tip: 6).\n",
            "Varijabla: K, Tip stakla: 7, Statistika: 0.5672, P-vrijednost: 0.0000\n",
            " -> Podaci NISU normalni za K (tip: 7).\n",
            "Varijabla: Ca, Tip stakla: 1, Statistika: 0.9330, P-vrijednost: 0.0010\n",
            " -> Podaci NISU normalni za Ca (tip: 1).\n",
            "Varijabla: Ca, Tip stakla: 2, Statistika: 0.6656, P-vrijednost: 0.0000\n",
            " -> Podaci NISU normalni za Ca (tip: 2).\n",
            "Varijabla: Ca, Tip stakla: 3, Statistika: 0.9200, P-vrijednost: 0.1479\n",
            " -> Podaci su normalni za Ca (tip: 3).\n",
            "Varijabla: Ca, Tip stakla: 5, Statistika: 0.8468, P-vrijednost: 0.0259\n",
            " -> Podaci NISU normalni za Ca (tip: 5).\n",
            "Varijabla: Ca, Tip stakla: 6, Statistika: 0.9214, P-vrijednost: 0.4041\n",
            " -> Podaci su normalni za Ca (tip: 6).\n",
            "Varijabla: Ca, Tip stakla: 7, Statistika: 0.7190, P-vrijednost: 0.0000\n",
            " -> Podaci NISU normalni za Ca (tip: 7).\n",
            "Varijabla: Ba, Tip stakla: 1, Statistika: 0.1400, P-vrijednost: 0.0000\n",
            " -> Podaci NISU normalni za Ba (tip: 1).\n",
            "Varijabla: Ba, Tip stakla: 2, Statistika: 0.1210, P-vrijednost: 0.0000\n",
            " -> Podaci NISU normalni za Ba (tip: 2).\n",
            "Varijabla: Ba, Tip stakla: 3, Statistika: 0.2622, P-vrijednost: 0.0000\n",
            " -> Podaci NISU normalni za Ba (tip: 3).\n",
            "Varijabla: Ba, Tip stakla: 5, Statistika: 0.3568, P-vrijednost: 0.0000\n",
            " -> Podaci NISU normalni za Ba (tip: 5).\n",
            "Varijabla: Ba, Tip stakla: 6, Statistika: 1.0000, P-vrijednost: 1.0000\n",
            " -> Podaci su normalni za Ba (tip: 6).\n",
            "Varijabla: Ba, Tip stakla: 7, Statistika: 0.9133, P-vrijednost: 0.0206\n",
            " -> Podaci NISU normalni za Ba (tip: 7).\n",
            "Varijabla: Fe, Tip stakla: 1, Statistika: 0.6885, P-vrijednost: 0.0000\n",
            " -> Podaci NISU normalni za Fe (tip: 1).\n",
            "Varijabla: Fe, Tip stakla: 2, Statistika: 0.7548, P-vrijednost: 0.0000\n",
            " -> Podaci NISU normalni za Fe (tip: 2).\n",
            "Varijabla: Fe, Tip stakla: 3, Statistika: 0.6178, P-vrijednost: 0.0000\n",
            " -> Podaci NISU normalni za Fe (tip: 3).\n",
            "Varijabla: Fe, Tip stakla: 5, Statistika: 0.4622, P-vrijednost: 0.0000\n",
            " -> Podaci NISU normalni za Fe (tip: 5).\n",
            "Varijabla: Fe, Tip stakla: 6, Statistika: 1.0000, P-vrijednost: 1.0000\n",
            " -> Podaci su normalni za Fe (tip: 6).\n",
            "Varijabla: Fe, Tip stakla: 7, Statistika: 0.4994, P-vrijednost: 0.0000\n",
            " -> Podaci NISU normalni za Fe (tip: 7).\n",
            "\n",
            "Provjera homoscedastičnosti (Leveneov test):\n",
            "Varijabla: RI, Statistika: 1.0028, P-vrijednost: 0.4171\n",
            " -> Varijanse su jednake za RI.\n",
            "Varijabla: Na, Statistika: 0.5314, P-vrijednost: 0.7524\n",
            " -> Varijanse su jednake za Na.\n",
            "Varijabla: Mg, Statistika: 4.3818, P-vrijednost: 0.0008\n",
            " -> Varijanse NISU jednake za Mg.\n",
            "Varijabla: Al, Statistika: 3.7003, P-vrijednost: 0.0031\n",
            " -> Varijanse NISU jednake za Al.\n",
            "Varijabla: Si, Statistika: 2.1767, P-vrijednost: 0.0580\n",
            " -> Varijanse su jednake za Si.\n",
            "Varijabla: K, Statistika: 7.2260, P-vrijednost: 0.0000\n",
            " -> Varijanse NISU jednake za K.\n",
            "Varijabla: Ca, Statistika: 3.8283, P-vrijednost: 0.0024\n",
            " -> Varijanse NISU jednake za Ca.\n",
            "Varijabla: Ba, Statistika: 14.7272, P-vrijednost: 0.0000\n",
            " -> Varijanse NISU jednake za Ba.\n",
            "Varijabla: Fe, Statistika: 2.7109, P-vrijednost: 0.0214\n",
            " -> Varijanse NISU jednake za Fe.\n"
          ]
        },
        {
          "output_type": "stream",
          "name": "stderr",
          "text": [
            "/usr/local/lib/python3.10/dist-packages/scipy/stats/_axis_nan_policy.py:531: UserWarning: scipy.stats.shapiro: Input data has range zero. The results may not be accurate.\n",
            "  res = hypotest_fun_out(*samples, **kwds)\n"
          ]
        }
      ]
    },
    {
      "cell_type": "code",
      "source": [
        "# Transformacija podataka: log-transformacija\n",
        "df['SiO2_log'] = np.log(df['Si'])\n",
        "\n",
        "# Ponovno testiranje nakon transformacije\n",
        "\n",
        "# 1. Shapiro-Wilk test za normalnost\n",
        "stat, p = shapiro(df['SiO2_log'])\n",
        "print(\"Shapiro-Wilk test nakon log-transformacije: stat=%.3f, p=%.3f\" % (stat, p))\n",
        "\n",
        "# 2. Leveneov test za homoscedastičnost\n",
        "# Provjera grupa u 'Type_of_glass'\n",
        "groups = df['Type'].unique()\n",
        "\n",
        "# Stvaranje lista za Leveneov test (različite grupe)\n",
        "grouped_data = [df[df['Type'] == group]['SiO2_log'] for group in groups]\n",
        "\n",
        "# Izvršavanje Leveneovog testa\n",
        "stat, p = levene(*grouped_data)\n",
        "print(\"Leveneov test nakon log-transformacije: stat=%.3f, p=%.3f\" % (stat, p))"
      ],
      "metadata": {
        "colab": {
          "base_uri": "https://localhost:8080/"
        },
        "id": "k60TTN6JwTFQ",
        "outputId": "fb0507b2-ea0b-47f4-828f-798cdf9dc1ea"
      },
      "execution_count": null,
      "outputs": [
        {
          "output_type": "stream",
          "name": "stdout",
          "text": [
            "Shapiro-Wilk test nakon log-transformacije: stat=0.917, p=0.000\n",
            "Leveneov test nakon log-transformacije: stat=2.164, p=0.059\n"
          ]
        }
      ]
    },
    {
      "cell_type": "code",
      "source": [
        "from scipy.stats import f_oneway\n",
        "\n",
        "# Priprema podataka za ANOVA analizu\n",
        "grouped_data = [df[df['Type'] == group]['SiO2_log'] for group in groups]\n",
        "\n",
        "# ANOVA analiza\n",
        "f_stat, p_value = f_oneway(*grouped_data)\n",
        "print(\"ANOVA rezultati nakon transformacije: F-stat=%.3f, p=%.3f\" % (f_stat, p_value))"
      ],
      "metadata": {
        "colab": {
          "base_uri": "https://localhost:8080/"
        },
        "id": "PY5BZtm0xGdK",
        "outputId": "f9479fe1-8692-499b-f537-b26ba2c65ad0"
      },
      "execution_count": null,
      "outputs": [
        {
          "output_type": "stream",
          "name": "stdout",
          "text": [
            "ANOVA rezultati nakon transformacije: F-stat=2.737, p=0.020\n"
          ]
        }
      ]
    },
    {
      "cell_type": "code",
      "source": [
        "from statsmodels.stats.multicomp import pairwise_tukeyhsd\n",
        "import matplotlib.pyplot as plt\n",
        "\n",
        "# Post hoc analiza\n",
        "tukey = pairwise_tukeyhsd(endog=data['SiO2_log'], groups=data['Type'], alpha=0.05)\n",
        "print(tukey)\n",
        "\n",
        "# Grafički prikaz rezultata Tukey HSD testa\n",
        "tukey.plot_simultaneous()\n",
        "plt.title('Tukey HSD test - Značajne razlike među grupama')\n",
        "plt.show()"
      ],
      "metadata": {
        "colab": {
          "base_uri": "https://localhost:8080/",
          "height": 892
        },
        "id": "l9tXx-tvxQPs",
        "outputId": "a706abf6-ef0f-4306-9034-66148137a9e4"
      },
      "execution_count": null,
      "outputs": [
        {
          "output_type": "stream",
          "name": "stdout",
          "text": [
            "Multiple Comparison of Means - Tukey HSD, FWER=0.05\n",
            "===================================================\n",
            "group1 group2 meandiff p-adj   lower  upper  reject\n",
            "---------------------------------------------------\n",
            "     1      2  -0.0003    1.0 -0.0053 0.0047  False\n",
            "     1      3   -0.003 0.9039 -0.0111 0.0052  False\n",
            "     1      5  -0.0036 0.8651 -0.0127 0.0055  False\n",
            "     1      6    0.008 0.2656 -0.0027 0.0187  False\n",
            "     1      7   0.0047  0.327  -0.002 0.0114  False\n",
            "     2      3  -0.0026 0.9362 -0.0107 0.0055  False\n",
            "     2      5  -0.0033 0.9016 -0.0124 0.0058  False\n",
            "     2      6   0.0083 0.2221 -0.0023 0.0189  False\n",
            "     2      7    0.005 0.2455 -0.0016 0.0116  False\n",
            "     3      5  -0.0007    1.0 -0.0118 0.0105  False\n",
            "     3      6   0.0109 0.1203 -0.0015 0.0234  False\n",
            "     3      7   0.0077 0.1643 -0.0016 0.0169  False\n",
            "     5      6   0.0116  0.115 -0.0015 0.0247  False\n",
            "     5      7   0.0083 0.1699 -0.0018 0.0184  False\n",
            "     6      7  -0.0033 0.9637 -0.0148 0.0082  False\n",
            "---------------------------------------------------\n"
          ]
        },
        {
          "output_type": "display_data",
          "data": {
            "text/plain": [
              "<Figure size 1000x600 with 1 Axes>"
            ],
            "image/png": "[encoded data removed]"
          },
          "metadata": {}
        }
      ]
    }
  ]
}